{
 "cells": [
  {
   "cell_type": "markdown",
   "id": "06cab549-a123-4e6d-884e-2b6fe552926b",
   "metadata": {},
   "source": [
    "<h1 align=\"center\" class=\"jp-toc-ignore\" style=\"color: LightSeaGreen\">Coder Mê Tài Chính</h1>\n",
    "\n",
    "---\n",
    "<table width=\"100%\" style=\"border:0px;\">\n",
    "    <tr style=\"font-size: 14pt\">\n",
    "        <td><b>Evangelist:</b> Lê Minh Đạt</td>\n",
    "        <td><b>Email:</b> <a href=\"mailto:sirminhdat@gmail.com\">sirminhdat@gmail.com</a></td>\n",
    "        <td><b>Zalo:</b> 0919 564 515</td>\n",
    "    </tr>\n",
    "</table>"
   ]
  },
  {
   "cell_type": "markdown",
   "id": "4352fe26-f987-4bf4-b029-3ff6c735d1f9",
   "metadata": {},
   "source": [
    "<center><h1 class=\"jp-toc-ignore\"><b>Machine Learning Cơ Bản</b></h1></center>"
   ]
  },
  {
   "cell_type": "markdown",
   "id": "f736ffb4-ec9b-4075-b5d7-198227092af3",
   "metadata": {},
   "source": [
    "<center>\n",
    "    <h1 style=\"color: Crimson; margin-top:10px; margin-bottom:0px\">Hồi Quy Tuyến Tính Đa Biến</h1>\n",
    "    <h1 style=\"color: Crimson; margin-top:10px; margin-bottom:0px\">(Multivariate Linear Regression)</h1>\n",
    "</center>"
   ]
  },
  {
   "cell_type": "markdown",
   "id": "ff8f00e0-e3a4-4caa-ba06-bb158ca0b560",
   "metadata": {},
   "source": [
    "Bây giờ, ngoài cái thông tin diện tích (Size) thì chúng ta có thêm thông tin để dự đoán giá nhà (Price) gồm: Số Phòng ngủ (Number of Bedrooms), số tầng (Number of Floors), số tuổi căn nhà (Age of House)\n",
    "\n",
    "| Size (sqft) | Number of Bedrooms  | Number of floors | Age of  House | Price (1000s dollars)  |   \n",
    "| ----------------| ------------------- |----------------- |--------------|-------------- |  \n",
    "| 2104            | 5                   | 1                | 45           | 460           |  \n",
    "| 1416            | 3                   | 2                | 40           | 232           |  \n",
    "| 852             | 2                   | 1                | 35           | 178           |  "
   ]
  },
  {
   "cell_type": "code",
   "execution_count": 30,
   "id": "12b28c7f-057e-4e02-9636-e088e4ea120a",
   "metadata": {},
   "outputs": [],
   "source": [
    "import numpy as np"
   ]
  },
  {
   "cell_type": "code",
   "execution_count": 31,
   "id": "4567260d-aad0-4239-b4ad-45fb9d0aa198",
   "metadata": {},
   "outputs": [],
   "source": [
    "X_train = np.array([\n",
    "    [2104, 5, 1, 45],\n",
    "    [1416, 3, 2, 40],\n",
    "    [852, 2, 1, 35]\n",
    "])\n",
    "\n",
    "y_train = np.array([460, 232, 178])"
   ]
  },
  {
   "cell_type": "markdown",
   "id": "a16fa083-111d-4bf9-b410-636432da3265",
   "metadata": {},
   "source": [
    "<h3>Model function</h3>"
   ]
  },
  {
   "cell_type": "markdown",
   "id": "34f0abf7-45fd-4abc-a53d-25941184edfd",
   "metadata": {},
   "source": [
    "Do chúng ta có nhiều thông tin (feature) hơn, vì vậy chúng ta phải dùng ma trận để biểu diễn những giá trị của các features này:\n",
    "\n",
    "$$\n",
    "\\Large \n",
    "\\mathbf{X}_{m \\times n} = \n",
    "\\begin{bmatrix}\n",
    "x^{(0)}_0 & x^{(0)}_1 & \\cdots & x^{(0)}_{n-1} \\\\\n",
    "x^{(1)}_0 & x^{(1)}_1 & \\cdots & x^{(1)}_{n-1} \\\\\n",
    "\\vdots & \\vdots & \\ddots & \\vdots \\\\\n",
    "x^{(m-1)}_0 & x^{(m-1)}_1 & \\cdots & x^{(m-1)}_{n-1} \n",
    "\\end{bmatrix}\n",
    "$$\n",
    "\n",
    "Ký hiệu:\n",
    "- $\\mathbf{X}^{(i)}$: là dòng (vector) thứ $i$. $\\mathbf{X}^{(i)}$ $ = (x^{(i)}_0, x^{(i)}_1, \\cdots,x^{(i)}_{n-1})$\n",
    "- $x^{(i)}_j$: là phần tử thứ $j$ của dòng (vector) thứ $i$.\n"
   ]
  },
  {
   "cell_type": "markdown",
   "id": "521b1762-ab05-4684-ab65-4275b630af06",
   "metadata": {},
   "source": [
    "Dựa vào cái linear regression model với 1 biến, chúng ta có thể mở rộng model này cho nhiều biến:\n",
    "\n",
    "$$\n",
    "\\Large f_{\\mathbf{W},b}(\\mathbf{X}) = w_{0}x_{0} + w_{1}x_{1} + \\cdots + w_{n-1}x_{n-1} + b \\tag1\n",
    "$$\n",
    "\n",
    "Model theo kiểu vector:\n",
    "\n",
    "$$\n",
    "\\Large f_{\\mathbf{W},b}(\\mathbf{X}) = \\mathbf{X} \\cdot \\mathbf{W} + b  \\tag2\n",
    "$$"
   ]
  },
  {
   "cell_type": "markdown",
   "id": "1282eee1-c527-4c16-b7a1-987f65665b90",
   "metadata": {},
   "source": [
    "Parameter $w, b$:\n",
    "\n",
    "$\\mathbf{W}$ là một vector cột có $n$ phần tử:\n",
    "\n",
    "$$\n",
    "\\Large\n",
    "\\mathbf{W}_{n \\times 1} = \n",
    "\\begin{bmatrix}\n",
    "w_0 \\\\ \n",
    "w_1 \\\\\n",
    "\\vdots\\\\\n",
    "w_{n-1}\n",
    "\\end{bmatrix}\n",
    "$$\n",
    "\n",
    "$b$ là một số thực (scalar)"
   ]
  },
  {
   "cell_type": "markdown",
   "id": "abc4d010-12fc-4920-94ee-2e8f12ef70e3",
   "metadata": {},
   "source": [
    "<h3>Cost function</h3>\n",
    "\n",
    "$$\n",
    "\\Large\n",
    "J(\\mathbf{W}, b) = \\frac{1}{2m}\\sum_{i=1}^{m} \\bigl(f_{\\mathbf{W}, b}(\\mathbf{X}^{(i)}) - y^{(i)}\\bigr)^2 \\tag3\n",
    "$$\n",
    "\n",
    "Với:\n",
    "\n",
    "$$\n",
    "\\Large \n",
    "f_{\\mathbf{W},b}(\\mathbf{X}^{(i)}) = \\mathbf{W} \\cdot \\mathbf{X}^{(i)} + b \\tag4\n",
    "$$\n",
    "\n",
    "Note:\n",
    "- Trong Numpy, vector dòng cũng được biểu diễn là 1 vector cột"
   ]
  },
  {
   "cell_type": "markdown",
   "id": "6b46dc66-df1f-48db-9be9-2a12fcc747d5",
   "metadata": {},
   "source": [
    "<h4>Viết code cho hàm chi phí (Cost function)</h4>"
   ]
  },
  {
   "cell_type": "code",
   "execution_count": 32,
   "id": "876f3541-eda9-4c95-8607-462eab3dfabb",
   "metadata": {},
   "outputs": [],
   "source": [
    "def compute_cost(X, y_vector, w_vector, b):\n",
    "    \"\"\"\n",
    "    Parameters:\n",
    "        X (numpy.ndarray(m,n)): Feature data with m samples (observations) and n features (columns)\n",
    "        y_vector (numpy.ndarray(m,)): Target values\n",
    "        w_vector (numpy.ndarray(n,)):  Model parameter\n",
    "        b (scalar): Model parameter\n",
    "\n",
    "    Return:\n",
    "        j_wb (float): The cost of using parameters w_vector, b for linear regression\n",
    "               to fit the data points in X and y_vector\n",
    "    \"\"\"\n",
    "\n",
    "    m_samples = X.shape[0]\n",
    "    sum_cost = 0\n",
    "\n",
    "    for i in range(m_samples):\n",
    "        f_wb = w_vector.dot(X[i]) + b # tính f_wb thứ i\n",
    "        sum_cost += (f_wb - y_vector[i]) ** 2 # Tính bình phương sai số và cộng dồn vào biến tổng\n",
    "        \n",
    "    j_wb = sum_cost / (2 * m_samples)\n",
    "    return j_wb"
   ]
  },
  {
   "cell_type": "code",
   "execution_count": 33,
   "id": "9d180017-d928-4bce-8df3-a492796f88bb",
   "metadata": {},
   "outputs": [],
   "source": [
    "#init w, b\n",
    "b = 750.27\n",
    "w = np.array([0.35, 25.68, -53.42, -33.12])"
   ]
  },
  {
   "cell_type": "code",
   "execution_count": 34,
   "id": "32b5c573-4519-4273-8592-4a1a350bc178",
   "metadata": {},
   "outputs": [
    {
     "data": {
      "text/plain": [
       "58630.386583333304"
      ]
     },
     "execution_count": 34,
     "metadata": {},
     "output_type": "execute_result"
    }
   ],
   "source": [
    "compute_cost(X_train, y_train, w, b)"
   ]
  },
  {
   "cell_type": "markdown",
   "id": "7f862776-ab8f-4be2-b8c3-595a4f967aed",
   "metadata": {},
   "source": [
    "<h3>Gradient Descent</h3>"
   ]
  },
  {
   "cell_type": "markdown",
   "id": "a840348b-cfe5-4642-8d96-f71952d78abe",
   "metadata": {},
   "source": [
    "<h4>Khai triển công thức tính đạo hàm của Cost function</h4>"
   ]
  },
  {
   "cell_type": "markdown",
   "id": "5e76ac23-1d89-4908-be91-c8cf68a66476",
   "metadata": {},
   "source": [
    "Thay $(4)$ vào $(3)$, ta được Cost function như sau:\n",
    "\n",
    "$$\n",
    "\\Large\n",
    "J(\\mathbf{W}, b) = \\frac{1}{2m}\\sum_{i=1}^{m} \\bigl([\\mathbf{W} \\cdot \\mathbf{X}^{(i)} + b] - y^{(i)}\\bigr)^2 \\tag5\n",
    "$$\n",
    "\n",
    "Khai triển phép dot product $\\mathbf{W} \\cdot \\mathbf{X}^{(i)}$:\n",
    "\n",
    "$$\n",
    "\\Large\n",
    "\\mathbf{W} \\cdot \\mathbf{X}^{(i)} = w_{0}x^{(i)}_{0} + w_{1}x^{(i)}_{1} + \\cdots + w_{n-1}x^{(i)}_{n-1}\n",
    "$$\n",
    "\n",
    "$$\n",
    "\\Large\n",
    "\\Rightarrow J(\\mathbf{W}, b) = \\frac{1}{2m}\\sum_{i=1}^{m} \\bigl([w_{0}x^{(i)}_{0} + w_{1}x^{(i)}_{1} + \\cdots + w_{n-1}x^{(i)}_{n-1} + b] - y^{(i)}\\bigr)^2 \\tag6\n",
    "$$\n",
    "\n"
   ]
  },
  {
   "cell_type": "markdown",
   "id": "ba7f08a8-582c-4333-a6e7-7a8e24788c25",
   "metadata": {},
   "source": [
    "Đưa $\\dfrac{1}{2}$ vào trong tổng:\n",
    "\n",
    "$$\n",
    "\\Large\n",
    "\\Rightarrow J(\\mathbf{W}, b) = \\frac{1}{m}\\sum_{i=1}^{m}\\frac{1}{2} \\bigl([w_{0}x^{(i)}_{0} + w_{1}x^{(i)}_{1} + \\cdots + w_{n-1}x^{(i)}_{n-1} + b] - y^{(i)}\\bigr)^2 \\tag7\n",
    "$$"
   ]
  },
  {
   "cell_type": "markdown",
   "id": "f7c7e11a-fe85-4661-b4a5-e1390d6cbe78",
   "metadata": {},
   "source": [
    "Gọi $L(\\mathbf{W},b)^{(i)}$ là hàm lost thành phần thứ $i$:\n",
    "\n",
    "$$\n",
    "\\Large L(\\mathbf{W},b)^{(i)} = \\frac{1}{2}\\bigl([w_{0}x^{(i)}_{0} + w_{1}x^{(i)}_{1} + \\cdots + w_{n-1}x^{(i)}_{n-1} + b] - y^{(i)}\\bigr)^2 \\tag8\n",
    "$$\n",
    "$\\newline$\n",
    "$$\n",
    "\\Large\\Rightarrow J(\\mathbf{W},b) = \\frac{1}{m}\\sum_{i=1}^{m}L(\\mathbf{W},b)^{(i)} \\tag9\n",
    "$$"
   ]
  },
  {
   "cell_type": "markdown",
   "id": "1f283811-9bce-439d-a9d1-20205b6d25fe",
   "metadata": {},
   "source": [
    "Từ $(9)$, lấy đạo hàm 2 vế theo $w_j$ và $b$:\n",
    "\n",
    "$$\n",
    "\\begin{align}\n",
    "\\Large  \\frac{\\partial J(\\mathbf{W},b)}{\\partial w_j} =& \\Large \\frac{1}{m}\\sum_{i=1}^{m} \\frac{\\partial L(\\mathbf{W},b)^{(i)}}{\\partial w_j} \\quad\\quad \\large j = [0 .. n-1] \\tag{10} \\\\ \\\\\n",
    "\\Large \\frac{\\partial J(\\mathbf{W},b)}{\\partial b} =& \\Large \\frac{1}{m}\\sum_{i=1}^{m} \\frac{\\partial L(\\mathbf{W},b)}{\\partial b}^{(i)} \\tag{11}\n",
    "\\end{align}\n",
    "$$"
   ]
  },
  {
   "cell_type": "markdown",
   "id": "138e7ffa-bc26-43be-b66a-acef465e6554",
   "metadata": {},
   "source": [
    "Từ $(8)$, lấy đạo hàm 2 vế theo $w_j$ và $b$:\n",
    "\n",
    "$$\n",
    "\\begin{align}\n",
    "\\Large  \\frac{\\partial L(\\mathbf{W},b)^{(i)}}{\\partial w_j} =& \\Large \\bigl([w_{0}x^{(i)}_{0} + w_{1}x^{(i)}_{1} + \\cdots + w_{n-1}x^{(i)}_{n-1} + b] - y^{(i)}\\bigr)x_{j}^{(i)} \\quad\\quad \\large j = [0 .. n-1] \\tag{12} \\\\ \\\\\n",
    "\\Large \\frac{\\partial L(\\mathbf{W},b)^{(i)}}{\\partial b} =& \\Large \\bigl([w_{0}x^{(i)}_{0} + w_{1}x^{(i)}_{1} + \\cdots + w_{n-1}x^{(i)}_{n-1} + b] - y^{(i)}\\bigr) \\tag{13}\n",
    "\\end{align}\n",
    "$$\n",
    "\n",
    "**Note:**\n",
    "Nếu $u$ là hàm hợp: $(u^k)'=k.u^{(k-1)}.(u)'$"
   ]
  },
  {
   "cell_type": "markdown",
   "id": "ca35e954-bd78-4cdd-b95f-5e8aad90d63c",
   "metadata": {},
   "source": [
    "Thay $(12)$ vào $(10)$, $(13)$ vào $(11)$:\n",
    "\n",
    "$$\n",
    "\\begin{align}\n",
    "\\Large  \\frac{\\partial J(\\mathbf{W},b)}{\\partial w_j} =& \\Large \\frac{1}{m}\\sum_{i=1}^{m} \\bigl([w_{0}x^{(i)}_{0} + w_{1}x^{(i)}_{1} + \\cdots + w_{n-1}x^{(i)}_{n-1} + b] - y^{(i)}\\bigr)x_{j}^{(i)} \\quad\\quad \\large j = [0 .. n-1] \\tag{14} \\\\ \\\\\n",
    "\\Large \\frac{\\partial J(\\mathbf{W},b)}{\\partial b} =& \\Large \\frac{1}{m}\\sum_{i=1}^{m} \\bigl([w_{0}x^{(i)}_{0} + w_{1}x^{(i)}_{1} + \\cdots + w_{n-1}x^{(i)}_{n-1} + b] - y^{(i)}\\bigr) \\tag{15}\n",
    "\\end{align}\n",
    "$$"
   ]
  },
  {
   "cell_type": "markdown",
   "id": "bca5690d-4374-4fea-a3da-d0d013eb58e6",
   "metadata": {},
   "source": [
    "<h4>Viết code cho hàm tính đạo hàm Cost function theo $\\mathbf{W}$, b</h4>"
   ]
  },
  {
   "cell_type": "code",
   "execution_count": 35,
   "id": "1ffc5c8a-4173-49b8-b6b4-c7e32d600813",
   "metadata": {},
   "outputs": [],
   "source": [
    "def compute_partial_derivative(X, y_vector, w_vector, b):\n",
    "    \"\"\"\n",
    "    Parameters:\n",
    "        X (numpy.ndarray(m,n)): Feature data with m samples (observations) and n features (columns)\n",
    "        y_vector (numpy.ndarray(m,)): Target values\n",
    "        w_vector (numpy.ndarray(n,)):  Model parameter\n",
    "        b (scalar): Model parameter\n",
    "\n",
    "    Return:\n",
    "        dj_dw (ndarray (n,)): The derivative value with respect to w\n",
    "        dj_db (scalar): The derivative value with respect to b  \n",
    "    \"\"\"\n",
    "    m_samples, n_features = X.shape\n",
    "    dj_w = np.zeros([n_features])\n",
    "    dj_b = 0\n",
    "    \n",
    "    for i in range(m_samples):\n",
    "        f_wb = w_vector.dot(X[i]) + b\n",
    "        dj_b += (f_wb - y_vector[i])\n",
    "        for j in range(n_features):\n",
    "            dj_w[j] += (f_wb - y_vector[i]) * X[i, j]\n",
    "                \n",
    "    dj_dw = dj_w / m_samples # dj_dw có shape(n,): mỗi phần tử của dj_dw là giá trị đạo hàm tương ứng của mỗi w trong w_vector\n",
    "    dj_db = dj_b / m_samples # dj_db là số thực\n",
    "    return dj_dw, dj_db"
   ]
  },
  {
   "cell_type": "code",
   "execution_count": 36,
   "id": "3d0f0ff1-ecc7-4ba9-9449-f2ac6e91389a",
   "metadata": {},
   "outputs": [
    {
     "name": "stdout",
     "output_type": "stream",
     "text": [
      "dj_dw at initial w,b: [-5.16052253e+05 -1.18250667e+03 -4.53666667e+02 -1.37668667e+04]\n",
      "dj_db at initial w,b: -340.0899999999999\n"
     ]
    }
   ],
   "source": [
    "_dj_dw, _dj_db = compute_partial_derivative(X_train, y_train, w, b)\n",
    "print(f'dj_dw at initial w,b: {_dj_dw}')\n",
    "print(f'dj_db at initial w,b: {_dj_db}')"
   ]
  },
  {
   "cell_type": "markdown",
   "id": "2f9b837e-7e4f-491c-94bf-b575188a667c",
   "metadata": {},
   "source": [
    "Cập nhật $w_j,b$ cho đến khi hàm cost $J(\\mathbf{w},b)$ đạt cực tiểu (hoặc hội tụ), với $\\eta$ (đọc là eta) là learning rate\n",
    "\n",
    "$$\n",
    "\\begin{align}\n",
    "\\Large w_j &= \\Large w_j - \\eta \\frac{\\partial J(\\mathbf{W},b)}{\\partial w_j} \\quad\\quad \\large j = [0 .. n-1] \\\\ \\\\\n",
    "\\Large b &= \\Large b - \\eta \\frac{\\partial J(\\mathbf{W},b)}{\\partial b} \\\\\n",
    "\\end{align}\n",
    "$$\n",
    "\n",
    "**Note:** Hàm cost $J(\\mathbf{W},b)$ đạt cực tiểu khi $\\dfrac{\\partial J(\\mathbf{W},b)}{\\partial w_j}=0$ và $\\dfrac{\\partial J(\\mathbf{W},b)}{\\partial b}=0$"
   ]
  },
  {
   "cell_type": "markdown",
   "id": "b06b0798-3285-4558-a99f-be229ad7fb16",
   "metadata": {},
   "source": [
    "<h4>Viết code cho hàm tính Gradient Descent</h4>"
   ]
  },
  {
   "cell_type": "code",
   "execution_count": 37,
   "id": "5a7c85ed-111a-4406-996d-e86913602815",
   "metadata": {},
   "outputs": [],
   "source": [
    "def compute_gradient_descent(X, y, n_iters=1000, w_init=None, b_init=0, eta=0.01):\n",
    "    \"\"\"\n",
    "    Parameters:\n",
    "        X (numpy.ndarray(m,n)) : Feature data with m samples (observations)\n",
    "        y (numpy.ndarray(m,)) : Target values\n",
    "        n_iters (int) : Number of iterations to run gradient descent\n",
    "        eta (float) : learning rate value between 0 and 1\n",
    "        w_init (numpy.ndarray(n,)) : Initial values of model parameter w\n",
    "        b_init (scalar) : Initial values of model parameter b\n",
    "\n",
    "    Return:\n",
    "        w (numpy.ndarray(n,)) : Updated values of parameters w\n",
    "        b (scalar) : Updated value of parameter b\n",
    "        trace (dict) : history value in each step of:\n",
    "                            cost,\n",
    "                            wb (values of w, b),\n",
    "                            dj (derivative values of w, b)\n",
    "    \"\"\"\n",
    "    m, n = X.shape\n",
    "    w = np.zeros(n)\n",
    "    b = b_init\n",
    "    \n",
    "    cost_hist = [] # Lưu cost ở từng bước thứ i\n",
    "    wb_hist = [] # Lưu {w, b} ở từng bước thứ i\n",
    "    dj_hist = [] # Lưu {dj_dw, dj_db} ở từng bước thứ i\n",
    "\n",
    "    threshold = 10e4 # Ngưỡng giá trị để không lưu cost, wb, dj nếu như n_iters lớn hơn giá trị này, tránh bị tốn RAM\n",
    "    \n",
    "    if w_init != None:\n",
    "        w = w_init\n",
    "\n",
    "    for i in range(int(n_iters)):\n",
    "        dj_dw, dj_db = compute_partial_derivative(X, y, w, b)\n",
    "        w = w - eta * dj_dw # Cập nhật giá trị mới cho w\n",
    "        b = b - eta * dj_db # Cập nhật giá trị mới cho b\n",
    "        cur_cost = compute_cost(X, y, w, b)\n",
    "        if i < threshold:\n",
    "            cost_hist.append(cur_cost)\n",
    "            wb_hist.append({'w': w, 'b': b})\n",
    "            dj_hist.append({'w': {'dj_dw': dj_dw, 'eta*dj_dw': (eta * dj_dw)}, 'b': {'dj_db': dj_db, 'eta*dj_db': (eta * dj_db)}})\n",
    "\n",
    "        # In các giá trị của cost, w, b, đạo hàm tại các bước\n",
    "        if i % np.ceil(n_iters/10) == 0:\n",
    "                print(f\"Step {i:4}:\")\n",
    "                print(f\"\\tCost: {cur_cost}\")\n",
    "                print(f\"\\tdj_dw: {dj_dw}\\tdj_db: {dj_db}\")\n",
    "                print(f\"\\tw: {w}\\tb: {b}\")           \n",
    "\n",
    "    trace = { \n",
    "        'cost': cost_hist,\n",
    "        'wb': wb_hist,\n",
    "        'dj': dj_hist\n",
    "    }\n",
    "    return w, b, trace"
   ]
  },
  {
   "cell_type": "code",
   "execution_count": 46,
   "id": "e3a58612-17d2-4a4e-92dd-6766c6daebb9",
   "metadata": {},
   "outputs": [
    {
     "name": "stdout",
     "output_type": "stream",
     "text": [
      "Step    0:\n",
      "\tCost: 47214.659575642494\n",
      "\tdj_dw: [-4.82669333e+05 -1.11733333e+03 -3.67333333e+02 -1.20700000e+04]\tdj_db: -290.0\n",
      "\tw: [4.82669333e-03 1.11733333e-05 3.67333333e-06 1.20700000e-04]\tb: 2.9e-06\n",
      "Step 1000:\n",
      "\tCost: 696.8634057598148\n",
      "\tdj_dw: [ -3.67651396  -6.58990488  22.98155941 145.02042644]\tdj_db: 4.8256566381728305\n",
      "\tw: [ 2.02203110e-01  5.31208205e-04 -6.65910849e-05  3.66405698e-03]\tb: 7.516305370641109e-05\n",
      "Step 2000:\n",
      "\tCost: 696.6472028846148\n",
      "\tdj_dw: [ -3.67321158  -6.58897456  22.97491163 144.89078627]\tdj_db: 4.821094328505315\n",
      "\tw: [ 0.20223986  0.0005971  -0.00029637  0.0022145 ]\tb: 2.692932502294877e-05\n",
      "Step 3000:\n",
      "\tCost: 696.4313793733622\n",
      "\tdj_dw: [ -3.66992758  -6.5880451   22.96826972 144.76126095]\tdj_db: 4.8165360656227945\n",
      "\tw: [ 0.20227657  0.00066299 -0.00052609  0.00076624]\tb: -2.1258800777693547e-05\n",
      "Step 4000:\n",
      "\tCost: 696.2159345519202\n",
      "\tdj_dw: [ -3.66664649  -6.58711645  22.96163368 144.63185077]\tdj_db: 4.811981855363389\n",
      "\tw: [ 0.20231326  0.00072886 -0.00075574 -0.00068072]\tb: -6.94013642358924e-05\n",
      "Step 5000:\n",
      "\tCost: 696.0008677473562\n",
      "\tdj_dw: [ -3.66336833  -6.58618862  22.9550035  144.50255562]\tdj_db: 4.807431694124564\n",
      "\tw: [ 0.20234991  0.00079473 -0.00098532 -0.00212639]\tb: -0.0001174984058598459\n",
      "Step 6000:\n",
      "\tCost: 695.7861782879316\n",
      "\tdj_dw: [ -3.66009307  -6.58526159  22.94837919 144.37337542]\tdj_db: 4.8028855783070314\n",
      "\tw: [ 0.20238652  0.00086059 -0.00121484 -0.00357077]\tb: -0.000165549966121742\n",
      "Step 7000:\n",
      "\tCost: 695.5718655030983\n",
      "\tdj_dw: [ -3.65682073  -6.58433539  22.94176073 144.24431004]\tdj_db: 4.798343504314488\n",
      "\tw: [ 0.20242311  0.00092644 -0.00144429 -0.00501386]\tb: -0.0002135560854577928\n",
      "Step 8000:\n",
      "\tCost: 695.357928723504\n",
      "\tdj_dw: [ -3.6535513   -6.58340999  22.93514812 144.1153594 ]\tdj_db: 4.793805468554363\n",
      "\tw: [ 0.20245966  0.00099227 -0.00167367 -0.00645566]\tb: -0.0002615168042682635\n",
      "Step 9000:\n",
      "\tCost: 695.144367280984\n",
      "\tdj_dw: [ -3.65028478  -6.5824854   22.92854136 143.98652339]\tdj_db: 4.789271467436824\n",
      "\tw: [ 0.20249618  0.0010581  -0.00190299 -0.00789617]\tb: -0.00030943216291750913\n",
      "====================================================================================================\n",
      "w,b discovered by Gradient Descent: w=[ 0.20253263  0.00112386 -0.00213202 -0.00933395] | b=-0.0003572543543190273\n",
      "Cost: 694.9313935084083\n",
      "The convergence of the derivative process with learning rate:\n",
      "dj_dw={'dj_dw': array([ -3.64702442,  -6.58156255,  22.92194703, 143.85793057]), 'eta*dj_dw': array([-3.64702442e-08, -6.58156255e-08,  2.29219470e-07,  1.43857931e-06])} | dj_db={'dj_db': 4.784746025332926, 'eta*dj_db': 4.784746025332926e-08}\n"
     ]
    }
   ],
   "source": [
    "_n_iters = 10000\n",
    "_eta = 1.0e-8\n",
    "_w, _b, _trace = compute_gradient_descent(X_train, y_train, n_iters=_n_iters, eta=_eta)\n",
    "print(\"=\"*100)\n",
    "print(f\"w,b discovered by Gradient Descent: w={_w} | b={_b}\")\n",
    "print(f\"Cost: {_trace['cost'][-1]}\")\n",
    "print(\"The convergence of the derivative process with learning rate:\")\n",
    "print(f\"dj_dw={_trace['dj'][-1]['w']} | dj_db={_trace['dj'][-1]['b']}\")"
   ]
  },
  {
   "cell_type": "markdown",
   "id": "ac9582cd-094f-40bc-9724-97fbf57519f8",
   "metadata": {},
   "source": [
    "<h3>Tổng hợp lại vào một class</h3>"
   ]
  },
  {
   "cell_type": "code",
   "execution_count": 39,
   "id": "e6b75587-9203-448b-a151-eb9310ed8a1f",
   "metadata": {},
   "outputs": [],
   "source": [
    "class ViiLinearRegression:\n",
    "    \"\"\"\n",
    "    Parameters:\n",
    "        n_iters (int) : Number of iterations\n",
    "        eta (float) : Learning rate\n",
    "        w (numpy.ndarray(n,)) : Model parameter\n",
    "        b (scalar) : Model parameter\n",
    "    \"\"\"\n",
    "    \n",
    "    def __init__(self, n_iters=10000, eta=0.01):\n",
    "        self.n_iters = int(n_iters)\n",
    "        self.eta = eta\n",
    "        self.w = None\n",
    "        self.b = None\n",
    "\n",
    "    def fit(self, X, y):\n",
    "        _w, _b = self._compute_gradient_descent(X, y)\n",
    "        self.w = _w\n",
    "        self.b = _b\n",
    "\n",
    "    def predict(self, X):\n",
    "        preds = X.dot(self.w) + self.b # X(mxn).w(nx1) => vector(mx1)\n",
    "        return preds\n",
    "\n",
    "    def mse(self, preds, y_test):\n",
    "        \"\"\"\n",
    "        Compute the Mean Squared Error\n",
    "        \"\"\"\n",
    "        return np.mean((preds - y_test) ** 2)\n",
    "        \n",
    "    #===============================================\n",
    "    def _compute_cost(self, X, y_vector, w_vector, b):\n",
    "        \"\"\"\n",
    "        Parameters:\n",
    "            X (numpy.ndarray(m,n)): Feature data with m samples (observations) and n features (columns)\n",
    "            y_vector (numpy.ndarray(m,)): Target values\n",
    "            w_vector (numpy.ndarray(n,)):  Model parameter\n",
    "            b (scalar): Model parameter\n",
    "    \n",
    "        Return:\n",
    "            j_wb (float): The cost of using parameters w_vector, b for linear regression\n",
    "                   to fit the data points in X and y_vector\n",
    "        \"\"\"\n",
    "        j_wb = np.mean(((X.dot(w_vector) + b) - y_vector) ** 2) / 2\n",
    "        return j_wb\n",
    "        \n",
    "    def _compute_partial_derivative(self, X, y_vector, w_vector, b):\n",
    "        \"\"\"\n",
    "        Parameters:\n",
    "            X (numpy.ndarray(m,n)): Feature data with m samples (observations) and n features (columns)\n",
    "            y_vector (numpy.ndarray(m,)): Target values\n",
    "            w_vector (numpy.ndarray(n,)):  Model parameter\n",
    "            b (scalar): Model parameter\n",
    "    \n",
    "        Return:\n",
    "            dj_dw (ndarray (n,)): The derivative value with respect to w\n",
    "            dj_db (scalar): The derivative value with respect to b  \n",
    "        \"\"\"\n",
    "        m_samples = X.shape[0]        \n",
    "\n",
    "        dj_b = (X.dot(w_vector) + b) - y_vector # dj_b có shape(m,)\n",
    "        dj_w = np.dot(X.T, dj_b) # dj_w has có shape(n,)\n",
    "\n",
    "        dj_dw = dj_w / m_samples # dj_dw có shape(n,): mỗi phần tử của dj_dw là giá trị đạo hàm tương ứng của mỗi w trong w_vector\n",
    "        dj_db = dj_b.mean() # dj_db là số thực\n",
    "        return dj_dw, dj_db\n",
    "\n",
    "    def _compute_gradient_descent(self, X, y_vector):\n",
    "        \"\"\"\n",
    "        Parameters:\n",
    "            X (numpy.ndarray(m,n)) : Feature data with m samples (observations)\n",
    "            y_vector (numpy.ndarray(m,)) : Target values\n",
    "    \n",
    "        Return:\n",
    "            w (numpy.ndarray(n,)) : Updated values of parameters w\n",
    "            b (scalar) : Updated value of parameter b            \n",
    "        \"\"\"\n",
    "        _, n_features = X.shape\n",
    "        w = np.zeros(n_features)\n",
    "        b = 0\n",
    "                \n",
    "        for _ in range(self.n_iters):\n",
    "            dj_dw, dj_db = self._compute_partial_derivative(X, y_vector, w, b)\n",
    "            w = w - self.eta * dj_dw # Cập nhật giá trị mới cho w\n",
    "            b = b - self.eta * dj_db # Cập nhật giá trị mới cho b\n",
    "\n",
    "        return w, b"
   ]
  },
  {
   "cell_type": "code",
   "execution_count": 40,
   "id": "c76e0c11-ef44-4a13-810a-4ab201f304f7",
   "metadata": {},
   "outputs": [
    {
     "name": "stdout",
     "output_type": "stream",
     "text": [
      "w,b discovered by Gradient Descent: w=[ 0.20253263  0.00112386 -0.00213202 -0.00933395] | b=-0.00035725435431902723\n"
     ]
    }
   ],
   "source": [
    "_n_iters = 10000\n",
    "_eta = 1.0e-8\n",
    "lin_reg = ViiLinearRegression(n_iters=_n_iters, eta=_eta)\n",
    "lin_reg.fit(X_train, y_train)\n",
    "print(f\"w,b discovered by Gradient Descent: w={lin_reg.w} | b={lin_reg.b}\")"
   ]
  },
  {
   "cell_type": "code",
   "execution_count": 41,
   "id": "38b511a6-b68e-4911-9967-1a00f1c45237",
   "metadata": {},
   "outputs": [],
   "source": [
    "import pandas as pd\n",
    "from sklearn.model_selection import train_test_split"
   ]
  },
  {
   "cell_type": "code",
   "execution_count": 42,
   "id": "9154f5eb-8747-48ab-883f-f1b011c91640",
   "metadata": {},
   "outputs": [
    {
     "data": {
      "text/html": [
       "<div>\n",
       "<style scoped>\n",
       "    .dataframe tbody tr th:only-of-type {\n",
       "        vertical-align: middle;\n",
       "    }\n",
       "\n",
       "    .dataframe tbody tr th {\n",
       "        vertical-align: top;\n",
       "    }\n",
       "\n",
       "    .dataframe thead th {\n",
       "        text-align: right;\n",
       "    }\n",
       "</style>\n",
       "<table border=\"1\" class=\"dataframe\">\n",
       "  <thead>\n",
       "    <tr style=\"text-align: right;\">\n",
       "      <th></th>\n",
       "      <th>size(sqft)</th>\n",
       "      <th>bedrooms</th>\n",
       "      <th>floors</th>\n",
       "      <th>age</th>\n",
       "      <th>price(1000USD)</th>\n",
       "    </tr>\n",
       "  </thead>\n",
       "  <tbody>\n",
       "    <tr>\n",
       "      <th>0</th>\n",
       "      <td>1244.0</td>\n",
       "      <td>3.0</td>\n",
       "      <td>1.0</td>\n",
       "      <td>64.0</td>\n",
       "      <td>300.0</td>\n",
       "    </tr>\n",
       "    <tr>\n",
       "      <th>1</th>\n",
       "      <td>1947.0</td>\n",
       "      <td>3.0</td>\n",
       "      <td>2.0</td>\n",
       "      <td>17.0</td>\n",
       "      <td>509.8</td>\n",
       "    </tr>\n",
       "    <tr>\n",
       "      <th>2</th>\n",
       "      <td>1725.0</td>\n",
       "      <td>3.0</td>\n",
       "      <td>2.0</td>\n",
       "      <td>42.0</td>\n",
       "      <td>394.0</td>\n",
       "    </tr>\n",
       "    <tr>\n",
       "      <th>3</th>\n",
       "      <td>1959.0</td>\n",
       "      <td>3.0</td>\n",
       "      <td>2.0</td>\n",
       "      <td>15.0</td>\n",
       "      <td>540.0</td>\n",
       "    </tr>\n",
       "    <tr>\n",
       "      <th>4</th>\n",
       "      <td>1314.0</td>\n",
       "      <td>2.0</td>\n",
       "      <td>1.0</td>\n",
       "      <td>14.0</td>\n",
       "      <td>415.0</td>\n",
       "    </tr>\n",
       "  </tbody>\n",
       "</table>\n",
       "</div>"
      ],
      "text/plain": [
       "   size(sqft)  bedrooms  floors   age  price(1000USD)\n",
       "0      1244.0       3.0     1.0  64.0           300.0\n",
       "1      1947.0       3.0     2.0  17.0           509.8\n",
       "2      1725.0       3.0     2.0  42.0           394.0\n",
       "3      1959.0       3.0     2.0  15.0           540.0\n",
       "4      1314.0       2.0     1.0  14.0           415.0"
      ]
     },
     "execution_count": 42,
     "metadata": {},
     "output_type": "execute_result"
    }
   ],
   "source": [
    "df = pd.read_csv('data/ames_boston_housing_price.csv')\n",
    "df[0:5]"
   ]
  },
  {
   "cell_type": "code",
   "execution_count": 43,
   "id": "0dc6c53b-f6cd-4993-aded-ff2891d9a065",
   "metadata": {},
   "outputs": [],
   "source": [
    "X_data = df[[\"size(sqft)\", \"bedrooms\", \"floors\", \"age\"]].to_numpy()\n",
    "y_data = df['price(1000USD)'].to_numpy()"
   ]
  },
  {
   "cell_type": "code",
   "execution_count": 44,
   "id": "c2b2ebf1-39af-4a17-bac6-4f395cddbaf3",
   "metadata": {},
   "outputs": [],
   "source": [
    "X_train2, X_test2, y_train2, y_test2 = train_test_split(X_data, y_data, test_size=0.3, random_state=2024)"
   ]
  },
  {
   "cell_type": "code",
   "execution_count": 45,
   "id": "9c184297-8a4c-4391-a5df-323540553cbb",
   "metadata": {},
   "outputs": [
    {
     "name": "stdout",
     "output_type": "stream",
     "text": [
      "w,b discovered by Gradient Descent: w=[ 0.25343629 -0.00027522 -0.00060382 -0.07321296] | b=0.0006128526200788889\n",
      "==================================================\n",
      "Predictions: [332.5  302.81 263.75 250.72 424.59 272.07 275.31 309.33 511.18 500.95\n",
      " 464.06 464.86 214.14 446.76 291.81 213.67 657.07 374.93 417.14 495.38\n",
      " 408.38 193.85 259.03 240.99 415.22 434.1  276.04 441.92 236.38 364.64]\n",
      "y_test: [400.282 369.8   284.    298.    401.    282.    304.    329.    390.\n",
      " 450.    560.    460.    230.    449.8   275.    311.8   666.336 348.\n",
      " 502.    540.    464.    200.    267.4   264.    430.    394.    290.\n",
      " 350.    216.    350.   ]\n",
      "MSE: 2503.670890317518\n"
     ]
    }
   ],
   "source": [
    "_n_iters = 10000\n",
    "_eta = 1.0e-8\n",
    "lin_reg2 = ViiLinearRegression(n_iters=_n_iters, eta=_eta)\n",
    "lin_reg2.fit(X_train2, y_train2)\n",
    "preds = lin_reg2.predict(X_test2)\n",
    "print(f\"w,b discovered by Gradient Descent: w={lin_reg2.w} | b={lin_reg2.b}\")\n",
    "print(\"=\"*50)\n",
    "print(f\"Predictions: {np.round(preds, 2)}\")\n",
    "print(f\"y_test: {y_test2}\")\n",
    "print(f\"MSE: {lin_reg2.mse(preds, y_test2)}\")"
   ]
  }
 ],
 "metadata": {
  "kernelspec": {
   "display_name": "Python 3 (ipykernel)",
   "language": "python",
   "name": "python3"
  },
  "language_info": {
   "codemirror_mode": {
    "name": "ipython",
    "version": 3
   },
   "file_extension": ".py",
   "mimetype": "text/x-python",
   "name": "python",
   "nbconvert_exporter": "python",
   "pygments_lexer": "ipython3",
   "version": "3.11.8"
  }
 },
 "nbformat": 4,
 "nbformat_minor": 5
}
